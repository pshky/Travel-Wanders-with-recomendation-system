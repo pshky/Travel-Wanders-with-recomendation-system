{
 "cells": [
  {
   "cell_type": "code",
   "execution_count": 6,
   "id": "29b59945",
   "metadata": {},
   "outputs": [
    {
     "ename": "SyntaxError",
     "evalue": "invalid syntax (1588368286.py, line 6)",
     "output_type": "error",
     "traceback": [
      "\u001b[1;36m  Input \u001b[1;32mIn [6]\u001b[1;36m\u001b[0m\n\u001b[1;33m    def main(\"C:\\Users\\Dell\\Tourism-Recommend-System\\popular.pkl\",\"C:\\Users\\Dell\\Tourism-Recommend-System\"):\u001b[0m\n\u001b[1;37m             ^\u001b[0m\n\u001b[1;31mSyntaxError\u001b[0m\u001b[1;31m:\u001b[0m invalid syntax\n"
     ]
    }
   ],
   "source": [
    "import csv\n",
    "from six.moves import cPickle as pickle\n",
    "import numpy as np\n",
    "\n",
    "\n",
    "def main(\"C:\\Users\\Dell\\Tourism-Recommend-System\\popular.pkl\",\"C:\\Users\\Dell\\Tourism-Recommend-System\"):\n",
    "\n",
    "    x = []\n",
    "    with open(\"C:\\Users\\Dell\\Tourism-Recommend-System/popular.pkl\",'r') as f:\n",
    "        x = pickle.load(f)\n",
    "\n",
    "    with open(\"C:\\Users\\Dell\\Tourism-Recommend-System\",'w') as f:\n",
    "        writer = csv.writer(f)\n",
    "        for line in x: writer.writerow(line)"
   ]
  },
  {
   "cell_type": "code",
   "execution_count": null,
   "id": "bc3d33b9",
   "metadata": {},
   "outputs": [],
   "source": []
  },
  {
   "cell_type": "code",
   "execution_count": null,
   "id": "afac4277",
   "metadata": {},
   "outputs": [],
   "source": []
  }
 ],
 "metadata": {
  "kernelspec": {
   "display_name": "Python 3 (ipykernel)",
   "language": "python",
   "name": "python3"
  },
  "language_info": {
   "codemirror_mode": {
    "name": "ipython",
    "version": 3
   },
   "file_extension": ".py",
   "mimetype": "text/x-python",
   "name": "python",
   "nbconvert_exporter": "python",
   "pygments_lexer": "ipython3",
   "version": "3.9.12"
  }
 },
 "nbformat": 4,
 "nbformat_minor": 5
}
